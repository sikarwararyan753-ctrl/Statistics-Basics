{
  "nbformat": 4,
  "nbformat_minor": 0,
  "metadata": {
    "colab": {
      "provenance": []
    },
    "kernelspec": {
      "name": "python3",
      "display_name": "Python 3"
    },
    "language_info": {
      "name": "python"
    }
  },
  "cells": [
    {
      "cell_type": "markdown",
      "source": [
        "# Statistics Basics"
      ],
      "metadata": {
        "id": "lxua1NoeyKTG"
      }
    },
    {
      "cell_type": "markdown",
      "source": [
        "Question 1: What is the difference between descriptive statistics and inferential statistics? Explain with examples.\n",
        "\n",
        "\n",
        "\n",
        "\n",
        "Answer: Descriptive statistics summarize and describe the characteristics of a given dataset using measures like mean, median, and standard deviation, while inferential statistics use sample data to make predictions, generalizations, or inferences about a larger population. For example, calculating the average height of 100 students in a specific classroom (descriptive) helps understand that group, whereas using that average to infer the average height of all students in the state (inferential) involves making a broader generalization.\n",
        "\n",
        "Descriptive Statistics\n",
        "\n",
        "Purpose: To organize, summarize, and present the main features of a dataset in an understandable way.\n",
        "\n",
        "Methods: Uses numerical measures like the mean, median, mode, standard deviation, and graphical representations such as charts, graphs, and histograms.\n",
        "\n",
        "Scope: Focuses on the dataset that has been collected, whether it's the entire population or a sample.\n",
        "\n",
        "Example of Descriptive Statistics\n",
        "\n",
        "You survey 50 students in a particular school about their preferred social media platform. You find that 20 students prefer Instagram, 15 prefer X (formerly Twitter), and 15 prefer TikTok.\n",
        "\n",
        "What it describes: You could create a bar chart to visualize these preferences, showing that Instagram is the most popular in that specific sample of 50 students.\n",
        "\n",
        "Inferential Statistics\n",
        "\n",
        "Purpose: To make inferences, draw conclusions, and generalize about a larger population based on a smaller, representative sample of that population.\n",
        "\n",
        "Methods: Employs techniques like hypothesis testing, regression analysis, and confidence intervals to make predictions and test theories about the population.\n",
        "\n",
        "Scope: Goes beyond the immediate sample to make statements about the entire population from which the sample was drawn.\n",
        "\n",
        "Example of Inferential Statistics\n",
        "\n",
        "Using the same survey of 50 students as above, you want to know if these results can be generalized to all high school students in the city.\n",
        "\n",
        "What it infers: You would use the sample data to perform a statistical test to estimate the preferences of all high school students in the city, perhaps stating that there is a 95% confidence level that a majority of students in the city prefer Instagram over other platforms.\n",
        "\n",
        "Key Difference\n",
        "\n",
        "Descriptive statistics tells you about the data you have,\n",
        " while inferential statistics helps you make educated guesses about data you don't have.\n",
        "\n",
        "\n",
        "\n",
        "Question 2: What is sampling in statistics? Explain the differences between random and stratified sampling.\n",
        "\n",
        "\n",
        "\n",
        "Answer: Absolutely! Let’s break this down clearly:\n",
        "\n",
        " What Is Sampling in Statistics?\n",
        "\n",
        "Sampling is the process of selecting a subset (called a sample) from a larger group (called a population) to gather insights or make inferences about the whole. Since studying an entire population is often impractical or impossible, sampling helps researchers collect data efficiently and cost-effectively.\n",
        "\n",
        "Example:\n",
        "\n",
        " If a university wants to understand student satisfaction, instead of surveying all 10,000 students, they might survey 500 students. That group of 500 is the sample.\n",
        "\n",
        " Random Sampling\n",
        "\n",
        "Definition:\n",
        "\n",
        " In random sampling, every member of the population has an equal chance of being selected. It’s like drawing names from a hat.\n",
        "\n",
        "Advantages:\n",
        "\n",
        "Simple to implement\n",
        "\n",
        "Minimizes selection bias\n",
        "\n",
        "Example:\n",
        "\n",
        " You randomly select 100 students from a list of all students using a random number generator.\n",
        "\n",
        " Stratified Sampling\n",
        "\n",
        "Definition:\n",
        "\n",
        " In stratified sampling, the population is divided into distinct subgroups (called strata) based on shared characteristics (e.g., age, gender, income level). Then, random samples are taken from each stratum, often proportionally.\n",
        "\n",
        "Advantages:\n",
        "\n",
        "Ensures representation of all key subgroups\n",
        "More accurate and reliable results, especially when subgroups differ significantly\n",
        "\n",
        "Example:\n",
        "\n",
        " If a school has 60% undergraduates and 40% postgraduates, and you want a sample of 100 students, you’d randomly select 60 undergrads and 40 postgrads.\n",
        "\n",
        "\n",
        "Question 3: Define mean, median, and mode. Explain why these measures of central tendency are important.\n",
        "\n",
        "Answer:  Definitions of Mean, Median, and Mode\n",
        "\n",
        "Mean (Arithmetic Average)\n",
        "\n",
        "Definition: The sum of all values divided by the number of values.\n",
        "\n",
        "Formula:\n",
        " \\text{Mean} = \\frac{\\sum x_i}{n}\n",
        " where x_i are the data values and n is the number of values.\n",
        "\n",
        "Example: For the dataset [10, 20, 30],\n",
        " Mean = (10 + 20 + 30) / 3 = 20\n",
        "Median\n",
        "\n",
        "Definition: The middle value when the data is arranged in order.\n",
        "\n",
        "If the number of values is odd, it's the middle one.\n",
        "\n",
        "If even, it's the average of the two middle values.\n",
        "\n",
        "Example: For [10, 20, 30], Median = 20\n",
        " For [10, 20, 30, 40], Median = (20 + 30)/2 = 25\n",
        "\n",
        "Mode\n",
        "\n",
        "Definition: The value that appears most frequently in a dataset.\n",
        "\n",
        "A dataset can be:\n",
        "\n",
        "Unimodal (one mode)\n",
        "\n",
        "Bimodal (two modes)\n",
        "\n",
        "Multimodal (more than two modes)\n",
        "\n",
        "Or have no mode at all\n",
        "\n",
        "Example: For [10, 20, 20, 30], Mode = 20\n",
        "\n",
        "Why These Measures Are Important\n",
        "\n",
        "These are called measures of central tendency because they help us understand the \"center\" or typical value in a dataset. Here's why they matter:\n",
        "\n",
        "Mean gives a general average and is useful for comparing overall performance (e.g., average income, average temperature).\n",
        "\n",
        "Median is robust against outliers and skewed data, making it ideal for income distributions or housing prices.\n",
        "\n",
        "Mode identifies the most common value, which is useful in market research, fashion trends, or identifying frequent issues.\n",
        "\n",
        "\n",
        "Question 4: Explain skewness and kurtosis. What does a positive skew imply about the data?\n",
        "\n",
        "\n",
        "\n",
        "Answer:  Skewness measures a distribution's asymmetry, indicating if data is concentrated on one side, while kurtosis quantifies the \"tailedness\" and peakedness of the distribution, showing whether it has heavy or light tails relative to a normal distribution. A positive skew implies the data has a long right tail, meaning most values are clustered on the lower end of the scale, and there are a few unusually high values that pull the mean higher than the median and mode.\n",
        "\n",
        "Skewness Explained\n",
        "\n",
        "Definition: Skewness is a measure of the asymmetry of a probability distribution of a real-valued random variable about its mean.\n",
        "\n",
        "Positive Skew (Right Skew):\n",
        "\n",
        "The right tail of the distribution is longer or fatter than the left tail.\n",
        "\n",
        "Most data points are concentrated on the left side, but a few high-value outliers stretch the distribution to the right.\n",
        "\n",
        "Implication: The mean is greater than the median, which is greater than the mode (Mean &gt; Median &gt; Mode). For example, in income distributions, most people earn a moderate income, but a few high earners pull the average up.\n",
        "\n",
        "Negative Skew (Left Skew):\n",
        "\n",
        "The left tail of the distribution is longer or fatter than the right tail.\n",
        "\n",
        "Most data points are clustered on the right side, with a few low-value outliers stretching to the left.\n",
        "\n",
        "Implication: The mean is less than the median, which is less than the mode (Mean &lt; Median &lt; Mode).\n",
        "\n",
        "Zero Skew:\n",
        "\n",
        "The distribution is perfectly symmetrical, like a normal (bell-shaped) distribution.\n",
        "\n",
        "Kurtosis Explained\n",
        "\n",
        "Definition: Kurtosis measures the \"tailedness\" of a distribution, indicating the presence and concentration of outliers. It shows how peaked or flat the distribution is compared to a normal distribution.\n",
        "\n",
        "Types of Kurtosis:\n",
        "\n",
        "Leptokurtic (Positive Kurtosis): A \"heavy-tailed\" and more peaked distribution compared to the normal distribution, with a higher concentration of data at the center and in the tails.\n",
        "\n",
        "Platykurtic (Negative Kurtosis): A \"light-tailed\" and flatter distribution than the normal curve, with fewer outliers.\n",
        "\n",
        "\n",
        "Mesokurtic (Zero Kurtosis): A distribution with a kurtosis value of zero, similar to the normal distribution.\n",
        "\n",
        "\n",
        "Question 5: Implement a Python program to compute the mean, median, and mode of a given list of numbers. numbers = [12, 15, 12, 18, 19, 12, 20, 22, 19, 19, 24, 24, 24, 26, 28] (Include your Python code and output in the code box below.)\n",
        "\n",
        "\n",
        "Answer:\n"
      ],
      "metadata": {
        "id": "EmyBllt1yUQH"
      }
    },
    {
      "cell_type": "code",
      "execution_count": 1,
      "metadata": {
        "colab": {
          "base_uri": "https://localhost:8080/"
        },
        "id": "toNWDVfnyJov",
        "outputId": "299a9ed7-07a6-4c2c-90fd-21d4ac9aaedc"
      },
      "outputs": [
        {
          "output_type": "stream",
          "name": "stdout",
          "text": [
            "Mean: 19.6\n",
            "Median: 19\n",
            "Mode: 12\n"
          ]
        }
      ],
      "source": [
        "import statistics\n",
        "\n",
        "# Given list of numbers\n",
        "numbers = [12, 15, 12, 18, 19, 12, 20, 22, 19, 19, 24, 24, 24, 26, 28]\n",
        "\n",
        "# Compute mean, median, and mode\n",
        "mean_value = statistics.mean(numbers)\n",
        "median_value = statistics.median(numbers)\n",
        "mode_value = statistics.mode(numbers)\n",
        "\n",
        "# Display the results\n",
        "print(\"Mean:\", mean_value)\n",
        "print(\"Median:\", median_value)\n",
        "print(\"Mode:\", mode_value)\n"
      ]
    },
    {
      "cell_type": "markdown",
      "source": [
        "Question 6: Compute the covariance and correlation coefficient between the following two datasets provided as lists in Python: list_x = [10, 20, 30, 40, 50] list_y = [15, 25, 35, 45, 60] (Include your Python code and output in the code box below.)\n",
        "\n",
        "\n",
        "Answer:\n"
      ],
      "metadata": {
        "id": "0HoPcc4e0n7n"
      }
    },
    {
      "cell_type": "code",
      "source": [
        "import numpy as np\n",
        "\n",
        "# Given datasets\n",
        "list_x = [10, 20, 30, 40, 50]\n",
        "list_y = [15, 25, 35, 45, 60]\n",
        "\n",
        "# Convert lists to numpy arrays\n",
        "x = np.array(list_x)\n",
        "y = np.array(list_y)\n",
        "\n",
        "# Compute covariance matrix\n",
        "cov_matrix = np.cov(x, y, ddof=1)\n",
        "covariance = cov_matrix[0, 1]\n",
        "\n",
        "# Compute correlation coefficient\n",
        "correlation = np.corrcoef(x, y)[0, 1]\n",
        "\n",
        "# Display results\n",
        "print(\"Covariance:\", covariance)\n",
        "print(\"Correlation Coefficient:\", correlation)\n"
      ],
      "metadata": {
        "colab": {
          "base_uri": "https://localhost:8080/"
        },
        "id": "CSIAaomb0dNh",
        "outputId": "db12c9fa-0dd1-44cf-fb3b-59c0d0165fbc"
      },
      "execution_count": 2,
      "outputs": [
        {
          "output_type": "stream",
          "name": "stdout",
          "text": [
            "Covariance: 275.0\n",
            "Correlation Coefficient: 0.995893206467704\n"
          ]
        }
      ]
    },
    {
      "cell_type": "markdown",
      "source": [
        "Question 7: Write a Python script to draw a boxplot for the following numeric list and identify its outliers. Explain the result: data = [12, 14, 14, 15, 18, 19, 19, 21, 22, 22, 23, 23, 24, 26, 29, 35] (Include your Python code and output in the code box below.)\n",
        "\n",
        "Answer:\n"
      ],
      "metadata": {
        "id": "tjnlnbhi1BmN"
      }
    },
    {
      "cell_type": "code",
      "source": [
        "import matplotlib.pyplot as plt\n",
        "import seaborn as sns\n",
        "\n",
        "# Given data\n",
        "data = [12, 14, 14, 15, 18, 19, 19, 21, 22, 22, 23, 23, 24, 26, 29, 35]\n",
        "\n",
        "# Create a boxplot\n",
        "sns.boxplot(data=data)\n",
        "plt.title(\"Boxplot of Given Data\")\n",
        "plt.xlabel(\"Values\")\n",
        "plt.show()\n"
      ],
      "metadata": {
        "colab": {
          "base_uri": "https://localhost:8080/",
          "height": 458
        },
        "id": "T4g6pCu609Xq",
        "outputId": "9d915bf8-3e66-4946-ca31-9c069b61bb93"
      },
      "execution_count": 3,
      "outputs": [
        {
          "output_type": "display_data",
          "data": {
            "text/plain": [
              "<Figure size 640x480 with 1 Axes>"
            ],
            "image/png": "[encoded data removed]"
          },
          "metadata": {}
        }
      ]
    },
    {
      "cell_type": "markdown",
      "source": [
        " Output Explanation:\n",
        "\n",
        "When you run this code, you'll see a boxplot that visually summarizes the distribution of the data:\n",
        "\n",
        " Boxplot Components:\n",
        "\n",
        "Box: Represents the interquartile range (IQR) — from Q1 (25th percentile) to Q3 (75th percentile)\n",
        "\n",
        "Line inside the box: The median (Q2)\n",
        "\n",
        "Whiskers: Extend to the smallest and largest values within 1.5 × IQR from the quartiles\n",
        "\n",
        "Dots beyond whiskers: These are outliers\n",
        "\n",
        " Outlier Detection:\n",
        "\n",
        "To identify outliers manually:\n",
        "\n",
        "Calculate IQR:\n",
        "\n",
        "Q1 = 18\n",
        "\n",
        "Q3 = 24\n",
        "\n",
        "IQR = Q3 - Q1 = 6\n",
        "\n",
        "Outlier boundaries:\n",
        "\n",
        "Lower bound = Q1 - 1.5 × IQR = 18 - 9 = 9\n",
        "\n",
        "Upper bound = Q3 + 1.5 × IQR = 24 + 9 = 33\n",
        "\n",
        "Outliers:\n",
        "\n",
        "Any value < 9 or > 33 is an outlier.\n",
        "\n",
        "In this dataset, 35 is the only outlier.\n",
        "\n",
        "\n",
        "\n",
        "Question 8: You are working as a data analyst in an e-commerce company. The marketing team wants to know if there is a relationship between advertising spend and daily sales. ● Explain how you would use covariance and correlation to explore this relationship. ● Write Python code to compute the correlation between the two lists: advertising_spend = [200, 250, 300, 400, 500] daily_sales = [2200, 2450, 2750, 3200, 4000] (Include your Python code and output in the code box below.)\n",
        "\n",
        "Answer:\n",
        "\n",
        "Using Covariance and Correlation to Explore Relationships\n",
        "\n",
        "Covariance\n",
        "\n",
        "What it tells you: Whether two variables move together.\n",
        "\n",
        "Interpretation:\n",
        "\n",
        "Positive covariance → both variables increase together.\n",
        "\n",
        "Negative covariance → one increases while the other decreases.\n",
        "\n",
        "Limitation: It doesn’t tell you the strength of the relationship.\n",
        "\n",
        "Correlation Coefficient\n",
        "\n",
        "What it tells you: The strength and direction of the linear relationship between two variables.\n",
        "\n",
        "Range: From -1 to +1\n",
        "\n",
        "+1 → perfect positive correlation\n",
        "\n",
        "0 → no correlation\n",
        "\n",
        "–1 → perfect negative correlation\n",
        "\n",
        "Why it's better: It’s standardized, so you can compare across different\n",
        "datasets.\n",
        "\n",
        "\n",
        "\n"
      ],
      "metadata": {
        "id": "F5sgltuI1Tdh"
      }
    },
    {
      "cell_type": "code",
      "source": [
        "import numpy as np\n",
        "\n",
        "# Given data\n",
        "advertising_spend = [200, 250, 300, 400, 500]\n",
        "daily_sales = [2200, 2450, 2750, 3200, 4000]\n",
        "\n",
        "# Convert to numpy arrays\n",
        "x = np.array(advertising_spend)\n",
        "y = np.array(daily_sales)\n",
        "\n",
        "# Compute covariance matrix\n",
        "cov_matrix = np.cov(x, y, ddof=1)\n",
        "covariance = cov_matrix[0, 1]\n",
        "\n",
        "# Compute correlation coefficient\n",
        "correlation = np.corrcoef(x, y)[0, 1]\n",
        "\n",
        "# Display results\n",
        "print(\"Covariance:\", covariance)\n",
        "print(\"Correlation Coefficient:\", correlation)\n"
      ],
      "metadata": {
        "colab": {
          "base_uri": "https://localhost:8080/"
        },
        "id": "1gMYCK4b1JnC",
        "outputId": "33724623-a71f-4f07-96d0-fe6c50cbb2d1"
      },
      "execution_count": 4,
      "outputs": [
        {
          "output_type": "stream",
          "name": "stdout",
          "text": [
            "Covariance: 84875.0\n",
            "Correlation Coefficient: 0.9935824101653329\n"
          ]
        }
      ]
    },
    {
      "cell_type": "markdown",
      "source": [
        "Question 9: Your team has collected customer satisfaction survey data on a scale of 1-10 and wants to understand its distribution before launching a new product. ● Explain which summary statistics and visualizations (e.g. mean, standard deviation, histogram) you’d use. ● Write Python code to create a histogram using Matplotlib for the survey data: survey_scores = [7, 8, 5, 9, 6, 7, 8, 9, 10, 4, 7, 6, 9, 8, 7] (Include your Python code and output in the code box below.)\n",
        "\n",
        "\n",
        "Answer: Summary Statistics to Use\n",
        "\n",
        "To understand the distribution of scores (on a scale of 1–10), you'd use:\n",
        "Mean: Shows the average satisfaction level.\n",
        "\n",
        "Median: Reveals the middle score, useful if data is skewed.\n",
        "\n",
        "Mode: Identifies the most common score.\n",
        "\n",
        "Standard Deviation: Measures how spread out the scores are.\n",
        "\n",
        "Range: Difference between the highest and lowest scores.\n",
        "\n",
        "These metrics help assess whether customers are generally satisfied and how consistent their responses are.\n",
        "\n",
        " Visualization: Histogram\n",
        "\n",
        "A histogram is ideal for visualizing the frequency of scores. It shows how many customers gave each rating and helps spot patterns like clustering or skewness.\n"
      ],
      "metadata": {
        "id": "pjn-MuG72Ure"
      }
    },
    {
      "cell_type": "code",
      "source": [
        "import matplotlib.pyplot as plt\n",
        "\n",
        "# Survey data\n",
        "survey_scores = [7, 8, 5, 9, 6, 7, 8, 9, 10, 4, 7, 6, 9, 8, 7]\n",
        "\n",
        "# Create histogram\n",
        "plt.hist(survey_scores, bins=7, edgecolor='black', color='skyblue')\n",
        "plt.title(\"Customer Satisfaction Survey Scores\")\n",
        "plt.xlabel(\"Satisfaction Score\")\n",
        "plt.ylabel(\"Frequency\")\n",
        "plt.grid(axis='y', linestyle='--', alpha=0.7)\n",
        "plt.show()\n"
      ],
      "metadata": {
        "colab": {
          "base_uri": "https://localhost:8080/",
          "height": 472
        },
        "id": "hXlQPOjW2PAL",
        "outputId": "8ae5f28f-dda8-471b-cbee-3848603ba29b"
      },
      "execution_count": 5,
      "outputs": [
        {
          "output_type": "display_data",
          "data": {
            "text/plain": [
              "<Figure size 640x480 with 1 Axes>"
            ],
            "image/png": "[encoded data removed]"
          },
          "metadata": {}
        }
      ]
    },
    {
      "cell_type": "markdown",
      "source": [
        "Output Explanation\n",
        "\n",
        "The histogram will show peaks around scores 7, 8, and 9, indicating high satisfaction.\n",
        "\n",
        "Score 7 appears most frequently, suggesting it's the mode.\n",
        "\n",
        "The distribution is slightly right-skewed, with most scores between 6 and 9.\n",
        "\n",
        "No extreme outliers—scores range from 4 to 10, which is fairly balanced.\n",
        "\n"
      ],
      "metadata": {
        "id": "TBNoHWaW2pXm"
      }
    },
    {
      "cell_type": "code",
      "source": [],
      "metadata": {
        "id": "CSYcXYrr2kXa"
      },
      "execution_count": null,
      "outputs": []
    }
  ]
}